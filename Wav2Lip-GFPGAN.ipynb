{
  "cells": [
    {
      "cell_type": "markdown",
      "metadata": {},
      "source": [
        "## 前提条件\n",
        "- 使用python 3.8"
      ]
    },
    {
      "cell_type": "markdown",
      "metadata": {},
      "source": [
        "### 只需要第一次执行"
      ]
    },
    {
      "cell_type": "code",
      "execution_count": null,
      "metadata": {},
      "outputs": [],
      "source": [
        "!pip install --use-pep517 basicsr"
      ]
    },
    {
      "cell_type": "code",
      "execution_count": null,
      "metadata": {},
      "outputs": [],
      "source": [
        "!pip install -r requirements.txt"
      ]
    },
    {
      "cell_type": "code",
      "execution_count": null,
      "metadata": {},
      "outputs": [
        {
          "name": "stdout",
          "output_type": "stream",
          "text": [
            "content/Wav2Lip-master/face_detection/detection/sfd/s3fd.pth: No such file or directory\n",
            "/bin/bash: line 1: gdown: command not found\n"
          ]
        }
      ],
      "source": [
        "\n",
        "!wget 'https://www.adrianbulat.com/downloads/python-fan/s3fd-619a316812.pth' -O {wav2lipPath}'/face_detection/detection/sfd/s3fd.pth'\n",
        "!gdown https://drive.google.com/uc?id=1fQtBSYEyuai9MjBOF8j7zZ4oQ9W2N64q --output {wav2lipPath}'/checkpoints/'\n",
        "!wget https://github.com/TencentARC/GFPGAN/releases/download/v1.3.0/GFPGANv1.3.pth -P {gfpganFolderName}'/experiments/pretrained_models'\n",
        "!wget https://github.com/TencentARC/GFPGAN/releases/download/v1.4.0/GFPGANv1.4.pth -P {gfpganFolderName}'/experiments/pretrained_models'"
      ]
    },
    {
      "cell_type": "code",
      "execution_count": null,
      "metadata": {},
      "outputs": [
        {
          "name": "stdout",
          "output_type": "stream",
          "text": [
            "/home/richardliu/code/github.com/c4fun/Wav2Lip-GFPGAN\n"
          ]
        }
      ],
      "source": [
        "#!git clone https://github.com/ajay-sainy/Wav2Lip-GFPGAN.git\n",
        "basePath = \"/home/richardliu/code/github.com/c4fun/Wav2Lip-GFPGAN\"\n",
        "%cd {basePath}"
      ]
    },
    {
      "cell_type": "code",
      "execution_count": null,
      "metadata": {},
      "outputs": [],
      "source": [
        "wav2lipFolderName = 'Wav2Lip-master'\n",
        "gfpganFolderName = 'GFPGAN-master'\n",
        "wav2lipPath = basePath + '/' + wav2lipFolderName\n",
        "gfpganPath = basePath + '/' + gfpganFolderName"
      ]
    },
    {
      "cell_type": "code",
      "execution_count": null,
      "metadata": {},
      "outputs": [],
      "source": [
        "!cd $gfpganFolderName\n",
        "!pip install -r requirements.txt"
      ]
    },
    {
      "cell_type": "markdown",
      "metadata": {},
      "source": [
        "### 每次都要执行"
      ]
    },
    {
      "cell_type": "code",
      "execution_count": 4,
      "metadata": {},
      "outputs": [
        {
          "name": "stdout",
          "output_type": "stream",
          "text": [
            "/home/richardliu/code/github.com/c4fun/Wav2Lip-GFPGAN\n"
          ]
        }
      ],
      "source": [
        "#!git clone https://github.com/ajay-sainy/Wav2Lip-GFPGAN.git\n",
        "basePath = \"/home/richardliu/code/github.com/c4fun/Wav2Lip-GFPGAN\"\n",
        "%cd {basePath}"
      ]
    },
    {
      "cell_type": "code",
      "execution_count": 5,
      "metadata": {},
      "outputs": [],
      "source": [
        "wav2lipFolderName = 'Wav2Lip-master'\n",
        "gfpganFolderName = 'GFPGAN-master'\n",
        "wav2lipPath = basePath + '/' + wav2lipFolderName\n",
        "gfpganPath = basePath + '/' + gfpganFolderName"
      ]
    },
    {
      "cell_type": "markdown",
      "metadata": {},
      "source": [
        "## Wav2Lip"
      ]
    },
    {
      "cell_type": "code",
      "execution_count": 6,
      "metadata": {
        "id": "EqX_2YtkUjRI"
      },
      "outputs": [],
      "source": [
        "import os\n",
        "outputPath = basePath+'/outputs'\n",
        "inputAudioPath = basePath + '/inputs/kim_audio.mp3'\n",
        "inputVideoPath = basePath + '/inputs/kimk_7s_raw.mp4'\n",
        "lipSyncedOutputPath = basePath + '/outputs/result.mp4'\n",
        "\n",
        "if not os.path.exists(outputPath):\n",
        "  os.makedirs(outputPath)"
      ]
    },
    {
      "cell_type": "code",
      "execution_count": 7,
      "metadata": {},
      "outputs": [
        {
          "name": "stdout",
          "output_type": "stream",
          "text": [
            "Using cuda for inference.\n",
            "Reading video frames...\n",
            "Number of frames available for inference: 253\n",
            "Extracting raw audio...\n",
            "ffmpeg version 4.4.2-0ubuntu0.22.04.1 Copyright (c) 2000-2021 the FFmpeg developers\n",
            "  built with gcc 11 (Ubuntu 11.2.0-19ubuntu1)\n",
            "  configuration: --prefix=/usr --extra-version=0ubuntu0.22.04.1 --toolchain=hardened --libdir=/usr/lib/x86_64-linux-gnu --incdir=/usr/include/x86_64-linux-gnu --arch=amd64 --enable-gpl --disable-stripping --enable-gnutls --enable-ladspa --enable-libaom --enable-libass --enable-libbluray --enable-libbs2b --enable-libcaca --enable-libcdio --enable-libcodec2 --enable-libdav1d --enable-libflite --enable-libfontconfig --enable-libfreetype --enable-libfribidi --enable-libgme --enable-libgsm --enable-libjack --enable-libmp3lame --enable-libmysofa --enable-libopenjpeg --enable-libopenmpt --enable-libopus --enable-libpulse --enable-librabbitmq --enable-librubberband --enable-libshine --enable-libsnappy --enable-libsoxr --enable-libspeex --enable-libsrt --enable-libssh --enable-libtheora --enable-libtwolame --enable-libvidstab --enable-libvorbis --enable-libvpx --enable-libwebp --enable-libx265 --enable-libxml2 --enable-libxvid --enable-libzimg --enable-libzmq --enable-libzvbi --enable-lv2 --enable-omx --enable-openal --enable-opencl --enable-opengl --enable-sdl2 --enable-pocketsphinx --enable-librsvg --enable-libmfx --enable-libdc1394 --enable-libdrm --enable-libiec61883 --enable-chromaprint --enable-frei0r --enable-libx264 --enable-shared\n",
            "  libavutil      56. 70.100 / 56. 70.100\n",
            "  libavcodec     58.134.100 / 58.134.100\n",
            "  libavformat    58. 76.100 / 58. 76.100\n",
            "  libavdevice    58. 13.100 / 58. 13.100\n",
            "  libavfilter     7.110.100 /  7.110.100\n",
            "  libswscale      5.  9.100 /  5.  9.100\n",
            "  libswresample   3.  9.100 /  3.  9.100\n",
            "  libpostproc    55.  9.100 / 55.  9.100\n",
            "Input #0, mp3, from '/home/richardliu/code/github.com/c4fun/Wav2Lip-GFPGAN/inputs/kim_audio.mp3':\n",
            "  Metadata:\n",
            "    comment         : audio-extractor.net\n",
            "  Duration: 00:00:07.44, start: 0.025057, bitrate: 132 kb/s\n",
            "  Stream #0:0: Audio: mp3, 44100 Hz, stereo, fltp, 128 kb/s\n",
            "    Metadata:\n",
            "      encoder         : Lavc59.18\n",
            "Stream mapping:\n",
            "  Stream #0:0 -> #0:0 (mp3 (mp3float) -> pcm_s16le (native))\n",
            "Press [q] to stop, [?] for help\n",
            "Output #0, wav, to 'temp/temp.wav':\n",
            "  Metadata:\n",
            "    ICMT            : audio-extractor.net\n",
            "    ISFT            : Lavf58.76.100\n",
            "  Stream #0:0: Audio: pcm_s16le ([1][0][0][0] / 0x0001), 44100 Hz, stereo, s16, 1411 kb/s\n",
            "    Metadata:\n",
            "      encoder         : Lavc58.134.100 pcm_s16le\n",
            "size=    1276kB time=00:00:07.39 bitrate=1413.9kbits/s speed=1.53e+03x    \n",
            "video:0kB audio:1276kB subtitle:0kB other streams:0kB global headers:0kB muxing overhead: 0.008113%\n",
            "(80, 593)\n",
            "Length of mel chunks: 218\n",
            "  0%|                                                     | 0/2 [00:00<?, ?it/s]\n",
            "  0%|                                                    | 0/14 [00:31<?, ?it/s]\u001b[A\n",
            "Recovering from OOM error; New batch size: 8\n",
            "\n",
            "  0%|                                                    | 0/28 [00:00<?, ?it/s]\u001b[A\n",
            "  4%|█▌                                          | 1/28 [00:04<01:57,  4.35s/it]\u001b[A\n",
            "  7%|███▏                                        | 2/28 [00:05<01:26,  3.33s/it]\u001b[A\n",
            " 11%|████▋                                       | 3/28 [00:06<01:05,  2.62s/it]\u001b[A\n",
            " 14%|██████▎                                     | 4/28 [00:07<00:50,  2.11s/it]\u001b[A\n",
            " 18%|███████▊                                    | 5/28 [00:08<00:40,  1.75s/it]\u001b[A\n",
            " 21%|█████████▍                                  | 6/28 [00:08<00:32,  1.49s/it]\u001b[A\n",
            " 25%|███████████                                 | 7/28 [00:09<00:27,  1.30s/it]\u001b[A\n",
            " 29%|████████████▌                               | 8/28 [00:10<00:23,  1.16s/it]\u001b[A\n",
            " 32%|██████████████▏                             | 9/28 [00:11<00:20,  1.07s/it]\u001b[A\n",
            " 36%|███████████████▎                           | 10/28 [00:12<00:18,  1.01s/it]\u001b[A\n",
            " 39%|████████████████▉                          | 11/28 [00:13<00:16,  1.04it/s]\u001b[A\n",
            " 43%|██████████████████▍                        | 12/28 [00:14<00:14,  1.08it/s]\u001b[A\n",
            " 46%|███████████████████▉                       | 13/28 [00:14<00:13,  1.10it/s]\u001b[A\n",
            " 50%|█████████████████████▌                     | 14/28 [00:15<00:12,  1.11it/s]\u001b[A\n",
            " 54%|███████████████████████                    | 15/28 [00:16<00:11,  1.11it/s]\u001b[A\n",
            " 57%|████████████████████████▌                  | 16/28 [00:17<00:10,  1.13it/s]\u001b[A\n",
            " 61%|██████████████████████████                 | 17/28 [00:18<00:09,  1.14it/s]\u001b[A\n",
            " 64%|███████████████████████████▋               | 18/28 [00:19<00:08,  1.15it/s]\u001b[A\n",
            " 68%|█████████████████████████████▏             | 19/28 [00:20<00:07,  1.16it/s]\u001b[A\n",
            " 71%|██████████████████████████████▋            | 20/28 [00:21<00:06,  1.14it/s]\u001b[A\n",
            " 75%|████████████████████████████████▎          | 21/28 [00:21<00:06,  1.14it/s]\u001b[A\n",
            " 79%|█████████████████████████████████▊         | 22/28 [00:22<00:05,  1.13it/s]\u001b[A\n",
            " 82%|███████████████████████████████████▎       | 23/28 [00:23<00:04,  1.13it/s]\u001b[A\n",
            " 86%|████████████████████████████████████▊      | 24/28 [00:24<00:03,  1.13it/s]\u001b[A\n",
            " 89%|██████████████████████████████████████▍    | 25/28 [00:25<00:02,  1.14it/s]\u001b[A\n",
            " 93%|███████████████████████████████████████▉   | 26/28 [00:26<00:01,  1.13it/s]\u001b[A\n",
            " 96%|█████████████████████████████████████████▍ | 27/28 [00:27<00:00,  1.12it/s]\u001b[A\n",
            "100%|███████████████████████████████████████████| 28/28 [00:28<00:00,  1.01s/it]\u001b[A\n",
            "Load checkpoint from: checkpoints/wav2lip.pth\n",
            "Model loaded\n",
            "100%|█████████████████████████████████████████████| 2/2 [01:03<00:00, 31.74s/it]\n",
            "ffmpeg version 4.4.2-0ubuntu0.22.04.1 Copyright (c) 2000-2021 the FFmpeg developers\n",
            "  built with gcc 11 (Ubuntu 11.2.0-19ubuntu1)\n",
            "  configuration: --prefix=/usr --extra-version=0ubuntu0.22.04.1 --toolchain=hardened --libdir=/usr/lib/x86_64-linux-gnu --incdir=/usr/include/x86_64-linux-gnu --arch=amd64 --enable-gpl --disable-stripping --enable-gnutls --enable-ladspa --enable-libaom --enable-libass --enable-libbluray --enable-libbs2b --enable-libcaca --enable-libcdio --enable-libcodec2 --enable-libdav1d --enable-libflite --enable-libfontconfig --enable-libfreetype --enable-libfribidi --enable-libgme --enable-libgsm --enable-libjack --enable-libmp3lame --enable-libmysofa --enable-libopenjpeg --enable-libopenmpt --enable-libopus --enable-libpulse --enable-librabbitmq --enable-librubberband --enable-libshine --enable-libsnappy --enable-libsoxr --enable-libspeex --enable-libsrt --enable-libssh --enable-libtheora --enable-libtwolame --enable-libvidstab --enable-libvorbis --enable-libvpx --enable-libwebp --enable-libx265 --enable-libxml2 --enable-libxvid --enable-libzimg --enable-libzmq --enable-libzvbi --enable-lv2 --enable-omx --enable-openal --enable-opencl --enable-opengl --enable-sdl2 --enable-pocketsphinx --enable-librsvg --enable-libmfx --enable-libdc1394 --enable-libdrm --enable-libiec61883 --enable-chromaprint --enable-frei0r --enable-libx264 --enable-shared\n",
            "  libavutil      56. 70.100 / 56. 70.100\n",
            "  libavcodec     58.134.100 / 58.134.100\n",
            "  libavformat    58. 76.100 / 58. 76.100\n",
            "  libavdevice    58. 13.100 / 58. 13.100\n",
            "  libavfilter     7.110.100 /  7.110.100\n",
            "  libswscale      5.  9.100 /  5.  9.100\n",
            "  libswresample   3.  9.100 /  3.  9.100\n",
            "  libpostproc    55.  9.100 / 55.  9.100\n",
            "\u001b[0;33mGuessed Channel Layout for Input Stream #0.0 : stereo\n",
            "\u001b[0mInput #0, wav, from 'temp/temp.wav':\n",
            "  Metadata:\n",
            "    comment         : audio-extractor.net\n",
            "    encoder         : Lavf58.76.100\n",
            "  Duration: 00:00:07.41, bitrate: 1411 kb/s\n",
            "  Stream #0:0: Audio: pcm_s16le ([1][0][0][0] / 0x0001), 44100 Hz, stereo, s16, 1411 kb/s\n",
            "Input #1, avi, from 'temp/result.avi':\n",
            "  Metadata:\n",
            "    software        : Lavf59.27.100\n",
            "  Duration: 00:00:07.27, start: 0.000000, bitrate: 7696 kb/s\n",
            "  Stream #1:0: Video: mpeg4 (Simple Profile) (DIVX / 0x58564944), yuv420p, 1920x1080 [SAR 1:1 DAR 16:9], 7713 kb/s, 30 fps, 30 tbr, 30 tbn, 30 tbc\n",
            "Stream mapping:\n",
            "  Stream #1:0 -> #0:0 (mpeg4 (native) -> h264 (libx264))\n",
            "  Stream #0:0 -> #0:1 (pcm_s16le (native) -> aac (native))\n",
            "Press [q] to stop, [?] for help\n",
            "\u001b[1;36m[libx264 @ 0x58aff04122c0] \u001b[0m\u001b[0;33m-qscale is ignored, -crf is recommended.\n",
            "\u001b[0m\u001b[1;36m[libx264 @ 0x58aff04122c0] \u001b[0musing SAR=1/1\n",
            "\u001b[1;36m[libx264 @ 0x58aff04122c0] \u001b[0musing cpu capabilities: MMX2 SSE2Fast SSSE3 SSE4.2 AVX FMA3 BMI2 AVX2\n",
            "\u001b[1;36m[libx264 @ 0x58aff04122c0] \u001b[0mprofile High, level 4.0, 4:2:0, 8-bit\n",
            "\u001b[1;36m[libx264 @ 0x58aff04122c0] \u001b[0m264 - core 163 r3060 5db6aa6 - H.264/MPEG-4 AVC codec - Copyleft 2003-2021 - http://www.videolan.org/x264.html - options: cabac=1 ref=3 deblock=1:0:0 analyse=0x3:0x113 me=hex subme=7 psy=1 psy_rd=1.00:0.00 mixed_ref=1 me_range=16 chroma_me=1 trellis=1 8x8dct=1 cqm=0 deadzone=21,11 fast_pskip=1 chroma_qp_offset=-2 threads=34 lookahead_threads=5 sliced_threads=0 nr=0 decimate=1 interlaced=0 bluray_compat=0 constrained_intra=0 bframes=3 b_pyramid=2 b_adapt=1 b_bias=0 direct=1 weightb=1 open_gop=0 weightp=2 keyint=250 keyint_min=25 scenecut=40 intra_refresh=0 rc_lookahead=40 rc=crf mbtree=1 crf=23.0 qcomp=0.60 qpmin=0 qpmax=69 qpstep=4 ip_ratio=1.40 aq=1:1.00\n",
            "Output #0, mp4, to '/home/richardliu/code/github.com/c4fun/Wav2Lip-GFPGAN/outputs/result.mp4':\n",
            "  Metadata:\n",
            "    comment         : audio-extractor.net\n",
            "    encoder         : Lavf58.76.100\n",
            "  Stream #0:0: Video: h264 (avc1 / 0x31637661), yuv420p(progressive), 1920x1080 [SAR 1:1 DAR 16:9], q=2-31, 30 fps, 15360 tbn\n",
            "    Metadata:\n",
            "      encoder         : Lavc58.134.100 libx264\n",
            "    Side data:\n",
            "      cpb: bitrate max/min/avg: 0/0/0 buffer size: 0 vbv_delay: N/A\n",
            "  Stream #0:1: Audio: aac (LC) (mp4a / 0x6134706D), 44100 Hz, stereo, fltp, 128 kb/s\n",
            "    Metadata:\n",
            "      encoder         : Lavc58.134.100 aac\n",
            "frame=  218 fps=192 q=-1.0 Lsize=    3353kB time=00:00:07.38 bitrate=3720.0kbits/s speed=6.52x    \n",
            "video:3228kB audio:116kB subtitle:0kB other streams:0kB global headers:0kB muxing overhead: 0.246239%\n",
            "\u001b[1;36m[libx264 @ 0x58aff04122c0] \u001b[0mframe I:1     Avg QP:19.66  size: 76021\n",
            "\u001b[1;36m[libx264 @ 0x58aff04122c0] \u001b[0mframe P:154   Avg QP:21.75  size: 18877\n",
            "\u001b[1;36m[libx264 @ 0x58aff04122c0] \u001b[0mframe B:63    Avg QP:26.22  size:  5113\n",
            "\u001b[1;36m[libx264 @ 0x58aff04122c0] \u001b[0mconsecutive B-frames: 56.4%  7.3% 23.4% 12.8%\n",
            "\u001b[1;36m[libx264 @ 0x58aff04122c0] \u001b[0mmb I  I16..4: 33.7% 65.3%  1.0%\n",
            "\u001b[1;36m[libx264 @ 0x58aff04122c0] \u001b[0mmb P  I16..4:  0.8%  3.4%  0.1%  P16..4: 28.4%  7.1%  3.8%  0.0%  0.0%    skip:56.3%\n",
            "\u001b[1;36m[libx264 @ 0x58aff04122c0] \u001b[0mmb B  I16..4:  0.3%  1.1%  0.0%  B16..8: 31.6%  1.3%  0.2%  direct: 0.3%  skip:65.2%  L0:46.6% L1:49.4% BI: 4.0%\n",
            "\u001b[1;36m[libx264 @ 0x58aff04122c0] \u001b[0m8x8 transform intra:76.8% inter:76.3%\n",
            "\u001b[1;36m[libx264 @ 0x58aff04122c0] \u001b[0mcoded y,uvDC,uvAC intra: 42.9% 56.4% 14.2% inter: 8.9% 11.8% 0.2%\n",
            "\u001b[1;36m[libx264 @ 0x58aff04122c0] \u001b[0mi16 v,h,dc,p: 47% 27% 20%  6%\n",
            "\u001b[1;36m[libx264 @ 0x58aff04122c0] \u001b[0mi8 v,h,dc,ddl,ddr,vr,hd,vl,hu: 29% 21% 39%  2%  1%  2%  2%  2%  2%\n",
            "\u001b[1;36m[libx264 @ 0x58aff04122c0] \u001b[0mi4 v,h,dc,ddl,ddr,vr,hd,vl,hu: 36% 24% 16%  3%  4%  5%  4%  4%  4%\n",
            "\u001b[1;36m[libx264 @ 0x58aff04122c0] \u001b[0mi8c dc,h,v,p: 47% 21% 28%  4%\n",
            "\u001b[1;36m[libx264 @ 0x58aff04122c0] \u001b[0mWeighted P-Frames: Y:0.0% UV:0.0%\n",
            "\u001b[1;36m[libx264 @ 0x58aff04122c0] \u001b[0mref P L0: 73.3% 11.1% 11.5%  4.1%\n",
            "\u001b[1;36m[libx264 @ 0x58aff04122c0] \u001b[0mref B L0: 86.1% 11.4%  2.5%\n",
            "\u001b[1;36m[libx264 @ 0x58aff04122c0] \u001b[0mref B L1: 98.6%  1.4%\n",
            "\u001b[1;36m[libx264 @ 0x58aff04122c0] \u001b[0mkb/s:3638.81\n",
            "\u001b[1;36m[aac @ 0x58aff04139c0] \u001b[0mQavg: 237.868\n"
          ]
        }
      ],
      "source": [
        "!cd $wav2lipFolderName && python inference.py \\\n",
        "--checkpoint_path checkpoints/wav2lip.pth \\\n",
        "--face {inputVideoPath} \\\n",
        "--audio {inputAudioPath} \\\n",
        "--outfile {lipSyncedOutputPath}"
      ]
    },
    {
      "cell_type": "markdown",
      "metadata": {},
      "source": [
        "- 生成了一个kim Kardashian的output（声音是Reah Horn的）\n",
        "- 嘴巴的效果还比较模糊，因为这里只有wav2lip，没有做GFPGAN的超分放大"
      ]
    },
    {
      "cell_type": "markdown",
      "metadata": {},
      "source": [
        "## GFPGAN"
      ]
    },
    {
      "cell_type": "code",
      "execution_count": 16,
      "metadata": {
        "id": "X_RNegAcISU2"
      },
      "outputs": [
        {
          "name": "stderr",
          "output_type": "stream",
          "text": [
            "  0%|          | 0/218 [00:00<?, ?it/s]"
          ]
        },
        {
          "name": "stderr",
          "output_type": "stream",
          "text": [
            "  2%|▏         | 5/218 [00:00<00:04, 48.74it/s]"
          ]
        },
        {
          "name": "stdout",
          "output_type": "stream",
          "text": [
            "FPS:  30.0 Frames:  218\n"
          ]
        },
        {
          "name": "stderr",
          "output_type": "stream",
          "text": [
            "100%|██████████| 218/218 [00:03<00:00, 55.72it/s]\n"
          ]
        }
      ],
      "source": [
        "import cv2\n",
        "from tqdm import tqdm\n",
        "from os import path\n",
        "\n",
        "import os\n",
        "\n",
        "inputVideoPath = outputPath+'/result.mp4'\n",
        "unProcessedFramesFolderPath = outputPath+'/frames'\n",
        "\n",
        "if not os.path.exists(unProcessedFramesFolderPath):\n",
        "  os.makedirs(unProcessedFramesFolderPath)\n",
        "\n",
        "vidcap = cv2.VideoCapture(inputVideoPath)\n",
        "numberOfFrames = int(vidcap.get(cv2.CAP_PROP_FRAME_COUNT))\n",
        "fps = vidcap.get(cv2.CAP_PROP_FPS)\n",
        "print(\"FPS: \", fps, \"Frames: \", numberOfFrames)\n",
        "\n",
        "for frameNumber in tqdm(range(numberOfFrames)):\n",
        "    _,image = vidcap.read()\n",
        "    cv2.imwrite(path.join(unProcessedFramesFolderPath, str(frameNumber).zfill(4)+'.jpg'), image)\n"
      ]
    },
    {
      "cell_type": "code",
      "execution_count": 17,
      "metadata": {
        "id": "k6krjfxTJYlu"
      },
      "outputs": [
        {
          "name": "stdout",
          "output_type": "stream",
          "text": [
            "/opt/anaconda3/envs/wav2lip/lib/python3.8/site-packages/torchvision/transforms/functional_tensor.py:5: UserWarning: The torchvision.transforms.functional_tensor module is deprecated in 0.15 and will be **removed in 0.17**. Please don't rely on it. You probably just need to use APIs in torchvision.transforms.functional or in torchvision.transforms.v2.functional.\n",
            "  warnings.warn(\n",
            "/opt/anaconda3/envs/wav2lip/lib/python3.8/site-packages/torchvision/models/_utils.py:208: UserWarning: The parameter 'pretrained' is deprecated since 0.13 and may be removed in the future, please use 'weights' instead.\n",
            "  warnings.warn(\n",
            "/opt/anaconda3/envs/wav2lip/lib/python3.8/site-packages/torchvision/models/_utils.py:223: UserWarning: Arguments other than a weight enum or `None` for 'weights' are deprecated since 0.13 and may be removed in the future. The current behavior is equivalent to passing `weights=None`.\n",
            "  warnings.warn(msg)\n",
            "  0%|                                                   | 0/218 [00:00<?, ?it/s]Processing 0000.jpg ...\n",
            "  0%|▏                                          | 1/218 [00:00<02:51,  1.27it/s]Processing 0001.jpg ...\n",
            "  1%|▍                                          | 2/218 [00:01<02:25,  1.48it/s]Processing 0002.jpg ...\n",
            "  1%|▌                                          | 3/218 [00:01<02:06,  1.70it/s]Processing 0003.jpg ...\n",
            "  2%|▊                                          | 4/218 [00:01<01:52,  1.90it/s]Processing 0004.jpg ...\n",
            "  2%|▉                                          | 5/218 [00:02<01:41,  2.09it/s]Processing 0005.jpg ...\n",
            "  3%|█▏                                         | 6/218 [00:02<01:33,  2.26it/s]Processing 0006.jpg ...\n",
            "  3%|█▍                                         | 7/218 [00:03<01:27,  2.41it/s]Processing 0007.jpg ...\n",
            "  4%|█▌                                         | 8/218 [00:03<01:23,  2.50it/s]Processing 0008.jpg ...\n",
            "  4%|█▊                                         | 9/218 [00:03<01:20,  2.60it/s]Processing 0009.jpg ...\n",
            "  5%|█▉                                        | 10/218 [00:04<01:19,  2.62it/s]Processing 0010.jpg ...\n",
            "  5%|██                                        | 11/218 [00:04<01:17,  2.67it/s]Processing 0011.jpg ...\n",
            "  6%|██▎                                       | 12/218 [00:04<01:15,  2.71it/s]Processing 0012.jpg ...\n",
            "  6%|██▌                                       | 13/218 [00:05<01:14,  2.75it/s]Processing 0013.jpg ...\n",
            "  6%|██▋                                       | 14/218 [00:05<01:13,  2.78it/s]Processing 0014.jpg ...\n",
            "  7%|██▉                                       | 15/218 [00:05<01:13,  2.78it/s]Processing 0015.jpg ...\n",
            "  7%|███                                       | 16/218 [00:06<01:12,  2.80it/s]Processing 0016.jpg ...\n",
            "  8%|███▎                                      | 17/218 [00:06<01:12,  2.79it/s]Processing 0017.jpg ...\n",
            "  8%|███▍                                      | 18/218 [00:06<01:11,  2.79it/s]Processing 0018.jpg ...\n",
            "  9%|███▋                                      | 19/218 [00:07<01:10,  2.81it/s]Processing 0019.jpg ...\n",
            "  9%|███▊                                      | 20/218 [00:07<01:10,  2.81it/s]Processing 0020.jpg ...\n",
            " 10%|████                                      | 21/218 [00:08<01:09,  2.83it/s]Processing 0021.jpg ...\n",
            " 10%|████▏                                     | 22/218 [00:08<01:09,  2.83it/s]Processing 0022.jpg ...\n",
            " 11%|████▍                                     | 23/218 [00:08<01:08,  2.83it/s]Processing 0023.jpg ...\n",
            " 11%|████▌                                     | 24/218 [00:09<01:08,  2.81it/s]Processing 0024.jpg ...\n",
            " 11%|████▊                                     | 25/218 [00:09<01:08,  2.82it/s]Processing 0025.jpg ...\n",
            " 12%|█████                                     | 26/218 [00:09<01:08,  2.81it/s]Processing 0026.jpg ...\n",
            " 12%|█████▏                                    | 27/218 [00:10<01:08,  2.81it/s]Processing 0027.jpg ...\n",
            " 13%|█████▍                                    | 28/218 [00:10<01:08,  2.76it/s]Processing 0028.jpg ...\n",
            " 13%|█████▌                                    | 29/218 [00:10<01:08,  2.77it/s]Processing 0029.jpg ...\n",
            " 14%|█████▊                                    | 30/218 [00:11<01:07,  2.79it/s]Processing 0030.jpg ...\n",
            " 14%|█████▉                                    | 31/218 [00:11<01:06,  2.80it/s]Processing 0031.jpg ...\n",
            " 15%|██████▏                                   | 32/218 [00:11<01:06,  2.79it/s]Processing 0032.jpg ...\n",
            " 15%|██████▎                                   | 33/218 [00:12<01:06,  2.79it/s]Processing 0033.jpg ...\n",
            " 16%|██████▌                                   | 34/218 [00:12<01:05,  2.80it/s]Processing 0034.jpg ...\n",
            " 16%|██████▋                                   | 35/218 [00:13<01:04,  2.82it/s]Processing 0035.jpg ...\n",
            " 17%|██████▉                                   | 36/218 [00:13<01:05,  2.78it/s]Processing 0036.jpg ...\n",
            " 17%|███████▏                                  | 37/218 [00:13<01:04,  2.79it/s]Processing 0037.jpg ...\n",
            " 17%|███████▎                                  | 38/218 [00:14<01:04,  2.80it/s]Processing 0038.jpg ...\n",
            " 18%|███████▌                                  | 39/218 [00:14<01:03,  2.80it/s]Processing 0039.jpg ...\n",
            " 18%|███████▋                                  | 40/218 [00:14<01:03,  2.80it/s]Processing 0040.jpg ...\n",
            " 19%|███████▉                                  | 41/218 [00:15<01:02,  2.82it/s]Processing 0041.jpg ...\n",
            " 19%|████████                                  | 42/218 [00:15<01:02,  2.83it/s]Processing 0042.jpg ...\n",
            " 20%|████████▎                                 | 43/218 [00:15<01:02,  2.82it/s]Processing 0043.jpg ...\n",
            " 20%|████████▍                                 | 44/218 [00:16<01:01,  2.82it/s]Processing 0044.jpg ...\n",
            " 21%|████████▋                                 | 45/218 [00:16<01:01,  2.83it/s]Processing 0045.jpg ...\n",
            " 21%|████████▊                                 | 46/218 [00:16<01:01,  2.78it/s]Processing 0046.jpg ...\n",
            " 22%|█████████                                 | 47/218 [00:17<01:01,  2.77it/s]Processing 0047.jpg ...\n",
            " 22%|█████████▏                                | 48/218 [00:17<01:01,  2.77it/s]Processing 0048.jpg ...\n",
            " 22%|█████████▍                                | 49/218 [00:18<01:00,  2.79it/s]Processing 0049.jpg ...\n",
            " 23%|█████████▋                                | 50/218 [00:18<01:00,  2.79it/s]Processing 0050.jpg ...\n",
            " 23%|█████████▊                                | 51/218 [00:18<00:59,  2.80it/s]Processing 0051.jpg ...\n",
            " 24%|██████████                                | 52/218 [00:19<00:59,  2.78it/s]Processing 0052.jpg ...\n",
            " 24%|██████████▏                               | 53/218 [00:19<00:59,  2.78it/s]Processing 0053.jpg ...\n",
            " 25%|██████████▍                               | 54/218 [00:19<00:59,  2.74it/s]Processing 0054.jpg ...\n",
            " 25%|██████████▌                               | 55/218 [00:20<00:59,  2.76it/s]Processing 0055.jpg ...\n",
            " 26%|██████████▊                               | 56/218 [00:20<00:58,  2.78it/s]Processing 0056.jpg ...\n",
            " 26%|██████████▉                               | 57/218 [00:20<00:57,  2.80it/s]Processing 0057.jpg ...\n",
            " 27%|███████████▏                              | 58/218 [00:21<00:58,  2.75it/s]Processing 0058.jpg ...\n",
            " 27%|███████████▎                              | 59/218 [00:21<00:57,  2.76it/s]Processing 0059.jpg ...\n",
            " 28%|███████████▌                              | 60/218 [00:22<00:57,  2.76it/s]Processing 0060.jpg ...\n",
            " 28%|███████████▊                              | 61/218 [00:22<00:56,  2.79it/s]Processing 0061.jpg ...\n",
            " 28%|███████████▉                              | 62/218 [00:22<00:55,  2.80it/s]Processing 0062.jpg ...\n",
            " 29%|████████████▏                             | 63/218 [00:23<00:55,  2.78it/s]Processing 0063.jpg ...\n",
            " 29%|████████████▎                             | 64/218 [00:23<00:55,  2.77it/s]Processing 0064.jpg ...\n",
            " 30%|████████████▌                             | 65/218 [00:23<00:54,  2.79it/s]Processing 0065.jpg ...\n",
            " 30%|████████████▋                             | 66/218 [00:24<00:54,  2.80it/s]Processing 0066.jpg ...\n",
            " 31%|████████████▉                             | 67/218 [00:24<00:53,  2.80it/s]Processing 0067.jpg ...\n",
            " 31%|█████████████                             | 68/218 [00:24<00:53,  2.81it/s]Processing 0068.jpg ...\n",
            " 32%|█████████████▎                            | 69/218 [00:25<00:53,  2.80it/s]Processing 0069.jpg ...\n",
            " 32%|█████████████▍                            | 70/218 [00:25<00:52,  2.82it/s]Processing 0070.jpg ...\n",
            " 33%|█████████████▋                            | 71/218 [00:25<00:52,  2.78it/s]Processing 0071.jpg ...\n",
            " 33%|█████████████▊                            | 72/218 [00:26<00:53,  2.75it/s]Processing 0072.jpg ...\n",
            " 33%|██████████████                            | 73/218 [00:26<00:52,  2.78it/s]Processing 0073.jpg ...\n",
            " 34%|██████████████▎                           | 74/218 [00:27<00:51,  2.80it/s]Processing 0074.jpg ...\n",
            " 34%|██████████████▍                           | 75/218 [00:27<00:51,  2.76it/s]Processing 0075.jpg ...\n",
            " 35%|██████████████▋                           | 76/218 [00:27<00:51,  2.74it/s]Processing 0076.jpg ...\n",
            " 35%|██████████████▊                           | 77/218 [00:28<00:50,  2.77it/s]Processing 0077.jpg ...\n",
            " 36%|███████████████                           | 78/218 [00:28<00:49,  2.80it/s]Processing 0078.jpg ...\n",
            " 36%|███████████████▏                          | 79/218 [00:28<00:49,  2.81it/s]Processing 0079.jpg ...\n",
            " 37%|███████████████▍                          | 80/218 [00:29<00:49,  2.81it/s]Processing 0080.jpg ...\n",
            " 37%|███████████████▌                          | 81/218 [00:29<00:48,  2.82it/s]Processing 0081.jpg ...\n",
            " 38%|███████████████▊                          | 82/218 [00:29<00:48,  2.79it/s]Processing 0082.jpg ...\n",
            " 38%|███████████████▉                          | 83/218 [00:30<00:48,  2.81it/s]Processing 0083.jpg ...\n",
            " 39%|████████████████▏                         | 84/218 [00:30<00:47,  2.82it/s]Processing 0084.jpg ...\n",
            " 39%|████████████████▍                         | 85/218 [00:30<00:46,  2.84it/s]Processing 0085.jpg ...\n",
            " 39%|████████████████▌                         | 86/218 [00:31<00:46,  2.84it/s]Processing 0086.jpg ...\n",
            " 40%|████████████████▊                         | 87/218 [00:31<00:46,  2.81it/s]Processing 0087.jpg ...\n",
            " 40%|████████████████▉                         | 88/218 [00:32<00:46,  2.80it/s]Processing 0088.jpg ...\n",
            " 41%|█████████████████▏                        | 89/218 [00:32<00:46,  2.80it/s]Processing 0089.jpg ...\n",
            " 41%|█████████████████▎                        | 90/218 [00:32<00:46,  2.74it/s]Processing 0090.jpg ...\n",
            " 42%|█████████████████▌                        | 91/218 [00:33<00:46,  2.76it/s]Processing 0091.jpg ...\n",
            " 42%|█████████████████▋                        | 92/218 [00:33<00:45,  2.77it/s]Processing 0092.jpg ...\n",
            " 43%|█████████████████▉                        | 93/218 [00:33<00:45,  2.75it/s]Processing 0093.jpg ...\n",
            " 43%|██████████████████                        | 94/218 [00:34<00:45,  2.75it/s]Processing 0094.jpg ...\n",
            " 44%|██████████████████▎                       | 95/218 [00:34<00:44,  2.76it/s]Processing 0095.jpg ...\n",
            " 44%|██████████████████▍                       | 96/218 [00:34<00:44,  2.75it/s]Processing 0096.jpg ...\n",
            " 44%|██████████████████▋                       | 97/218 [00:35<00:44,  2.75it/s]Processing 0097.jpg ...\n",
            " 45%|██████████████████▉                       | 98/218 [00:35<00:43,  2.77it/s]Processing 0098.jpg ...\n",
            " 45%|███████████████████                       | 99/218 [00:35<00:42,  2.80it/s]Processing 0099.jpg ...\n",
            " 46%|██████████████████▊                      | 100/218 [00:36<00:42,  2.80it/s]Processing 0100.jpg ...\n",
            " 46%|██████████████████▉                      | 101/218 [00:36<00:41,  2.79it/s]Processing 0101.jpg ...\n",
            " 47%|███████████████████▏                     | 102/218 [00:37<00:41,  2.78it/s]Processing 0102.jpg ...\n",
            " 47%|███████████████████▎                     | 103/218 [00:37<00:41,  2.76it/s]Processing 0103.jpg ...\n",
            " 48%|███████████████████▌                     | 104/218 [00:37<00:41,  2.77it/s]Processing 0104.jpg ...\n",
            " 48%|███████████████████▋                     | 105/218 [00:38<00:40,  2.79it/s]Processing 0105.jpg ...\n",
            " 49%|███████████████████▉                     | 106/218 [00:38<00:39,  2.81it/s]Processing 0106.jpg ...\n",
            " 49%|████████████████████                     | 107/218 [00:38<00:39,  2.83it/s]Processing 0107.jpg ...\n",
            " 50%|████████████████████▎                    | 108/218 [00:39<00:38,  2.84it/s]Processing 0108.jpg ...\n",
            " 50%|████████████████████▌                    | 109/218 [00:39<00:38,  2.84it/s]Processing 0109.jpg ...\n",
            " 50%|████████████████████▋                    | 110/218 [00:39<00:37,  2.86it/s]Processing 0110.jpg ...\n",
            " 51%|████████████████████▉                    | 111/218 [00:40<00:37,  2.86it/s]Processing 0111.jpg ...\n",
            " 51%|█████████████████████                    | 112/218 [00:40<00:37,  2.85it/s]Processing 0112.jpg ...\n",
            " 52%|█████████████████████▎                   | 113/218 [00:40<00:37,  2.84it/s]Processing 0113.jpg ...\n",
            " 52%|█████████████████████▍                   | 114/218 [00:41<00:36,  2.81it/s]Processing 0114.jpg ...\n",
            " 53%|█████████████████████▋                   | 115/218 [00:41<00:36,  2.79it/s]Processing 0115.jpg ...\n",
            " 53%|█████████████████████▊                   | 116/218 [00:42<00:36,  2.80it/s]Processing 0116.jpg ...\n",
            " 54%|██████████████████████                   | 117/218 [00:42<00:35,  2.81it/s]Processing 0117.jpg ...\n",
            " 54%|██████████████████████▏                  | 118/218 [00:42<00:35,  2.82it/s]Processing 0118.jpg ...\n",
            " 55%|██████████████████████▍                  | 119/218 [00:43<00:34,  2.84it/s]Processing 0119.jpg ...\n",
            " 55%|██████████████████████▌                  | 120/218 [00:43<00:35,  2.79it/s]Processing 0120.jpg ...\n",
            " 56%|██████████████████████▊                  | 121/218 [00:43<00:34,  2.81it/s]Processing 0121.jpg ...\n",
            " 56%|██████████████████████▉                  | 122/218 [00:44<00:34,  2.82it/s]Processing 0122.jpg ...\n",
            " 56%|███████████████████████▏                 | 123/218 [00:44<00:33,  2.84it/s]Processing 0123.jpg ...\n",
            " 57%|███████████████████████▎                 | 124/218 [00:44<00:33,  2.83it/s]Processing 0124.jpg ...\n",
            " 57%|███████████████████████▌                 | 125/218 [00:45<00:33,  2.80it/s]Processing 0125.jpg ...\n",
            " 58%|███████████████████████▋                 | 126/218 [00:45<00:32,  2.80it/s]Processing 0126.jpg ...\n",
            " 58%|███████████████████████▉                 | 127/218 [00:45<00:32,  2.79it/s]Processing 0127.jpg ...\n",
            " 59%|████████████████████████                 | 128/218 [00:46<00:32,  2.79it/s]Processing 0128.jpg ...\n",
            " 59%|████████████████████████▎                | 129/218 [00:46<00:31,  2.81it/s]Processing 0129.jpg ...\n",
            " 60%|████████████████████████▍                | 130/218 [00:47<00:31,  2.80it/s]Processing 0130.jpg ...\n",
            " 60%|████████████████████████▋                | 131/218 [00:47<00:31,  2.78it/s]Processing 0131.jpg ...\n",
            " 61%|████████████████████████▊                | 132/218 [00:47<00:30,  2.80it/s]Processing 0132.jpg ...\n",
            " 61%|█████████████████████████                | 133/218 [00:48<00:30,  2.80it/s]Processing 0133.jpg ...\n",
            " 61%|█████████████████████████▏               | 134/218 [00:48<00:29,  2.80it/s]Processing 0134.jpg ...\n",
            " 62%|█████████████████████████▍               | 135/218 [00:48<00:29,  2.80it/s]Processing 0135.jpg ...\n",
            " 62%|█████████████████████████▌               | 136/218 [00:49<00:29,  2.76it/s]Processing 0136.jpg ...\n",
            " 63%|█████████████████████████▊               | 137/218 [00:49<00:29,  2.72it/s]Processing 0137.jpg ...\n",
            " 63%|█████████████████████████▉               | 138/218 [00:49<00:29,  2.72it/s]Processing 0138.jpg ...\n",
            " 64%|██████████████████████████▏              | 139/218 [00:50<00:28,  2.75it/s]Processing 0139.jpg ...\n",
            " 64%|██████████████████████████▎              | 140/218 [00:50<00:28,  2.73it/s]Processing 0140.jpg ...\n",
            " 65%|██████████████████████████▌              | 141/218 [00:51<00:28,  2.75it/s]Processing 0141.jpg ...\n",
            " 65%|██████████████████████████▋              | 142/218 [00:51<00:27,  2.74it/s]Processing 0142.jpg ...\n",
            " 66%|██████████████████████████▉              | 143/218 [00:51<00:26,  2.78it/s]Processing 0143.jpg ...\n",
            " 66%|███████████████████████████              | 144/218 [00:52<00:26,  2.79it/s]Processing 0144.jpg ...\n",
            " 67%|███████████████████████████▎             | 145/218 [00:52<00:26,  2.80it/s]Processing 0145.jpg ...\n",
            " 67%|███████████████████████████▍             | 146/218 [00:52<00:25,  2.81it/s]Processing 0146.jpg ...\n",
            " 67%|███████████████████████████▋             | 147/218 [00:53<00:25,  2.78it/s]Processing 0147.jpg ...\n",
            " 68%|███████████████████████████▊             | 148/218 [00:53<00:25,  2.73it/s]Processing 0148.jpg ...\n",
            " 68%|████████████████████████████             | 149/218 [00:53<00:25,  2.71it/s]Processing 0149.jpg ...\n",
            " 69%|████████████████████████████▏            | 150/218 [00:54<00:24,  2.73it/s]Processing 0150.jpg ...\n",
            " 69%|████████████████████████████▍            | 151/218 [00:54<00:24,  2.71it/s]Processing 0151.jpg ...\n",
            " 70%|████████████████████████████▌            | 152/218 [00:55<00:24,  2.72it/s]Processing 0152.jpg ...\n",
            " 70%|████████████████████████████▊            | 153/218 [00:55<00:23,  2.71it/s]Processing 0153.jpg ...\n",
            " 71%|████████████████████████████▉            | 154/218 [00:55<00:23,  2.72it/s]Processing 0154.jpg ...\n",
            " 71%|█████████████████████████████▏           | 155/218 [00:56<00:22,  2.75it/s]Processing 0155.jpg ...\n",
            " 72%|█████████████████████████████▎           | 156/218 [00:56<00:22,  2.76it/s]Processing 0156.jpg ...\n",
            " 72%|█████████████████████████████▌           | 157/218 [00:56<00:21,  2.78it/s]Processing 0157.jpg ...\n",
            " 72%|█████████████████████████████▋           | 158/218 [00:57<00:21,  2.75it/s]Processing 0158.jpg ...\n",
            " 73%|█████████████████████████████▉           | 159/218 [00:57<00:21,  2.76it/s]Processing 0159.jpg ...\n",
            " 73%|██████████████████████████████           | 160/218 [00:57<00:20,  2.79it/s]Processing 0160.jpg ...\n",
            " 74%|██████████████████████████████▎          | 161/218 [00:58<00:20,  2.80it/s]Processing 0161.jpg ...\n",
            " 74%|██████████████████████████████▍          | 162/218 [00:58<00:20,  2.79it/s]Processing 0162.jpg ...\n",
            " 75%|██████████████████████████████▋          | 163/218 [00:58<00:19,  2.81it/s]Processing 0163.jpg ...\n",
            " 75%|██████████████████████████████▊          | 164/218 [00:59<00:19,  2.78it/s]Processing 0164.jpg ...\n",
            " 76%|███████████████████████████████          | 165/218 [00:59<00:18,  2.80it/s]Processing 0165.jpg ...\n",
            " 76%|███████████████████████████████▏         | 166/218 [01:00<00:18,  2.81it/s]Processing 0166.jpg ...\n",
            " 77%|███████████████████████████████▍         | 167/218 [01:00<00:18,  2.82it/s]Processing 0167.jpg ...\n",
            " 77%|███████████████████████████████▌         | 168/218 [01:00<00:17,  2.83it/s]Processing 0168.jpg ...\n",
            " 78%|███████████████████████████████▊         | 169/218 [01:01<00:17,  2.79it/s]Processing 0169.jpg ...\n",
            " 78%|███████████████████████████████▉         | 170/218 [01:01<00:17,  2.76it/s]Processing 0170.jpg ...\n",
            " 78%|████████████████████████████████▏        | 171/218 [01:01<00:16,  2.78it/s]Processing 0171.jpg ...\n",
            " 79%|████████████████████████████████▎        | 172/218 [01:02<00:16,  2.74it/s]Processing 0172.jpg ...\n",
            " 79%|████████████████████████████████▌        | 173/218 [01:02<00:16,  2.76it/s]Processing 0173.jpg ...\n",
            " 80%|████████████████████████████████▋        | 174/218 [01:02<00:16,  2.73it/s]Processing 0174.jpg ...\n",
            " 80%|████████████████████████████████▉        | 175/218 [01:03<00:15,  2.73it/s]Processing 0175.jpg ...\n",
            " 81%|█████████████████████████████████        | 176/218 [01:03<00:15,  2.72it/s]Processing 0176.jpg ...\n",
            " 81%|█████████████████████████████████▎       | 177/218 [01:04<00:14,  2.76it/s]Processing 0177.jpg ...\n",
            " 82%|█████████████████████████████████▍       | 178/218 [01:04<00:14,  2.75it/s]Processing 0178.jpg ...\n",
            " 82%|█████████████████████████████████▋       | 179/218 [01:04<00:14,  2.75it/s]Processing 0179.jpg ...\n",
            " 83%|█████████████████████████████████▊       | 180/218 [01:05<00:13,  2.77it/s]Processing 0180.jpg ...\n",
            " 83%|██████████████████████████████████       | 181/218 [01:05<00:13,  2.79it/s]Processing 0181.jpg ...\n",
            " 83%|██████████████████████████████████▏      | 182/218 [01:05<00:12,  2.81it/s]Processing 0182.jpg ...\n",
            " 84%|██████████████████████████████████▍      | 183/218 [01:06<00:12,  2.79it/s]Processing 0183.jpg ...\n",
            " 84%|██████████████████████████████████▌      | 184/218 [01:06<00:12,  2.80it/s]Processing 0184.jpg ...\n",
            " 85%|██████████████████████████████████▊      | 185/218 [01:06<00:12,  2.69it/s]Processing 0185.jpg ...\n",
            " 85%|██████████████████████████████████▉      | 186/218 [01:07<00:11,  2.72it/s]Processing 0186.jpg ...\n",
            " 86%|███████████████████████████████████▏     | 187/218 [01:07<00:11,  2.75it/s]Processing 0187.jpg ...\n",
            " 86%|███████████████████████████████████▎     | 188/218 [01:08<00:10,  2.77it/s]Processing 0188.jpg ...\n",
            " 87%|███████████████████████████████████▌     | 189/218 [01:08<00:10,  2.79it/s]Processing 0189.jpg ...\n",
            " 87%|███████████████████████████████████▋     | 190/218 [01:08<00:09,  2.81it/s]Processing 0190.jpg ...\n",
            " 88%|███████████████████████████████████▉     | 191/218 [01:09<00:09,  2.81it/s]Processing 0191.jpg ...\n",
            " 88%|████████████████████████████████████     | 192/218 [01:09<00:09,  2.81it/s]Processing 0192.jpg ...\n",
            " 89%|████████████████████████████████████▎    | 193/218 [01:09<00:08,  2.83it/s]Processing 0193.jpg ...\n",
            " 89%|████████████████████████████████████▍    | 194/218 [01:10<00:08,  2.82it/s]Processing 0194.jpg ...\n",
            " 89%|████████████████████████████████████▋    | 195/218 [01:10<00:08,  2.82it/s]Processing 0195.jpg ...\n",
            " 90%|████████████████████████████████████▊    | 196/218 [01:10<00:07,  2.82it/s]Processing 0196.jpg ...\n",
            " 90%|█████████████████████████████████████    | 197/218 [01:11<00:07,  2.82it/s]Processing 0197.jpg ...\n",
            " 91%|█████████████████████████████████████▏   | 198/218 [01:11<00:07,  2.81it/s]Processing 0198.jpg ...\n",
            " 91%|█████████████████████████████████████▍   | 199/218 [01:11<00:06,  2.82it/s]Processing 0199.jpg ...\n",
            " 92%|█████████████████████████████████████▌   | 200/218 [01:12<00:06,  2.79it/s]Processing 0200.jpg ...\n",
            " 92%|█████████████████████████████████████▊   | 201/218 [01:12<00:06,  2.80it/s]Processing 0201.jpg ...\n",
            " 93%|█████████████████████████████████████▉   | 202/218 [01:12<00:05,  2.78it/s]Processing 0202.jpg ...\n",
            " 93%|██████████████████████████████████████▏  | 203/218 [01:13<00:05,  2.80it/s]Processing 0203.jpg ...\n",
            " 94%|██████████████████████████████████████▎  | 204/218 [01:13<00:04,  2.80it/s]Processing 0204.jpg ...\n",
            " 94%|██████████████████████████████████████▌  | 205/218 [01:14<00:04,  2.82it/s]Processing 0205.jpg ...\n",
            " 94%|██████████████████████████████████████▋  | 206/218 [01:14<00:04,  2.83it/s]Processing 0206.jpg ...\n",
            " 95%|██████████████████████████████████████▉  | 207/218 [01:14<00:03,  2.84it/s]Processing 0207.jpg ...\n",
            " 95%|███████████████████████████████████████  | 208/218 [01:15<00:03,  2.84it/s]Processing 0208.jpg ...\n",
            " 96%|███████████████████████████████████████▎ | 209/218 [01:15<00:03,  2.81it/s]Processing 0209.jpg ...\n",
            " 96%|███████████████████████████████████████▍ | 210/218 [01:15<00:02,  2.81it/s]Processing 0210.jpg ...\n",
            " 97%|███████████████████████████████████████▋ | 211/218 [01:16<00:02,  2.75it/s]Processing 0211.jpg ...\n",
            " 97%|███████████████████████████████████████▊ | 212/218 [01:16<00:02,  2.77it/s]Processing 0212.jpg ...\n",
            " 98%|████████████████████████████████████████ | 213/218 [01:16<00:01,  2.75it/s]Processing 0213.jpg ...\n",
            " 98%|████████████████████████████████████████▏| 214/218 [01:17<00:01,  2.75it/s]Processing 0214.jpg ...\n",
            " 99%|████████████████████████████████████████▍| 215/218 [01:17<00:01,  2.76it/s]Processing 0215.jpg ...\n",
            " 99%|████████████████████████████████████████▌| 216/218 [01:18<00:00,  2.78it/s]Processing 0216.jpg ...\n",
            "100%|████████████████████████████████████████▊| 217/218 [01:18<00:00,  2.76it/s]Processing 0217.jpg ...\n",
            "100%|█████████████████████████████████████████| 218/218 [01:18<00:00,  2.77it/s]\n",
            "Results are in the [/home/richardliu/code/github.com/c4fun/Wav2Lip-GFPGAN/outputs] folder.\n"
          ]
        }
      ],
      "source": [
        "!cd $gfpganFolderName && \\\n",
        "  python inference_gfpgan.py -i $unProcessedFramesFolderPath -o $outputPath -v 1.4 -s 2 --only_center_face --bg_upsampler None"
      ]
    },
    {
      "cell_type": "code",
      "execution_count": 18,
      "metadata": {
        "id": "XibzGPIVJfvP"
      },
      "outputs": [
        {
          "name": "stderr",
          "output_type": "stream",
          "text": [
            "  0%|          | 0/1 [00:00<?, ?it/s]"
          ]
        },
        {
          "name": "stdout",
          "output_type": "stream",
          "text": [
            "processing  0 300\n"
          ]
        },
        {
          "name": "stderr",
          "output_type": "stream",
          "text": [
            "100%|██████████| 218/218 [00:07<00:00, 31.07it/s]\n",
            "100%|██████████| 1/1 [00:11<00:00, 11.27s/it]\n"
          ]
        }
      ],
      "source": [
        "import os\n",
        "restoredFramesPath = outputPath + '/restored_imgs/'\n",
        "processedVideoOutputPath = outputPath\n",
        "\n",
        "dir_list = os.listdir(restoredFramesPath)\n",
        "dir_list.sort()\n",
        "\n",
        "import cv2\n",
        "import numpy as np\n",
        "\n",
        "batch = 0\n",
        "batchSize = 300\n",
        "from tqdm import tqdm\n",
        "for i in tqdm(range(0, len(dir_list), batchSize)):\n",
        "  img_array = []\n",
        "  start, end = i, i+batchSize\n",
        "  print(\"processing \", start, end)\n",
        "  for filename in  tqdm(dir_list[start:end]):\n",
        "      filename = restoredFramesPath+filename;\n",
        "      img = cv2.imread(filename)\n",
        "      if img is None:\n",
        "        continue\n",
        "      height, width, layers = img.shape\n",
        "      size = (width,height)\n",
        "      img_array.append(img)\n",
        "\n",
        "\n",
        "  out = cv2.VideoWriter(processedVideoOutputPath+'/batch_'+str(batch).zfill(4)+'.avi',cv2.VideoWriter_fourcc(*'DIVX'), 30, size)\n",
        "  batch = batch + 1\n",
        " \n",
        "  for i in range(len(img_array)):\n",
        "    out.write(img_array[i])\n",
        "  out.release()\n"
      ]
    },
    {
      "cell_type": "code",
      "execution_count": 19,
      "metadata": {
        "id": "jtde28qwpDd6"
      },
      "outputs": [
        {
          "name": "stdout",
          "output_type": "stream",
          "text": [
            "ffmpeg version 4.4.2-0ubuntu0.22.04.1 Copyright (c) 2000-2021 the FFmpeg developers\n",
            "  built with gcc 11 (Ubuntu 11.2.0-19ubuntu1)\n",
            "  configuration: --prefix=/usr --extra-version=0ubuntu0.22.04.1 --toolchain=hardened --libdir=/usr/lib/x86_64-linux-gnu --incdir=/usr/include/x86_64-linux-gnu --arch=amd64 --enable-gpl --disable-stripping --enable-gnutls --enable-ladspa --enable-libaom --enable-libass --enable-libbluray --enable-libbs2b --enable-libcaca --enable-libcdio --enable-libcodec2 --enable-libdav1d --enable-libflite --enable-libfontconfig --enable-libfreetype --enable-libfribidi --enable-libgme --enable-libgsm --enable-libjack --enable-libmp3lame --enable-libmysofa --enable-libopenjpeg --enable-libopenmpt --enable-libopus --enable-libpulse --enable-librabbitmq --enable-librubberband --enable-libshine --enable-libsnappy --enable-libsoxr --enable-libspeex --enable-libsrt --enable-libssh --enable-libtheora --enable-libtwolame --enable-libvidstab --enable-libvorbis --enable-libvpx --enable-libwebp --enable-libx265 --enable-libxml2 --enable-libxvid --enable-libzimg --enable-libzmq --enable-libzvbi --enable-lv2 --enable-omx --enable-openal --enable-opencl --enable-opengl --enable-sdl2 --enable-pocketsphinx --enable-librsvg --enable-libmfx --enable-libdc1394 --enable-libdrm --enable-libiec61883 --enable-chromaprint --enable-frei0r --enable-libx264 --enable-shared\n",
            "  libavutil      56. 70.100 / 56. 70.100\n",
            "  libavcodec     58.134.100 / 58.134.100\n",
            "  libavformat    58. 76.100 / 58. 76.100\n",
            "  libavdevice    58. 13.100 / 58. 13.100\n",
            "  libavfilter     7.110.100 /  7.110.100\n",
            "  libswscale      5.  9.100 /  5.  9.100\n",
            "  libswresample   3.  9.100 /  3.  9.100\n",
            "  libpostproc    55.  9.100 / 55.  9.100\n",
            "Input #0, concat, from '/home/richardliu/code/github.com/c4fun/Wav2Lip-GFPGAN/outputs/concat.txt':\n",
            "  Duration: N/A, start: 0.000000, bitrate: 19751 kb/s\n",
            "  Stream #0:0: Video: mpeg4 (Simple Profile) (DIVX / 0x58564944), yuv420p, 3840x2160 [SAR 1:1 DAR 16:9], 19751 kb/s, 30 fps, 30 tbr, 30 tbn, 30 tbc\n",
            "Output #0, avi, to '/home/richardliu/code/github.com/c4fun/Wav2Lip-GFPGAN/outputs/concated_output.avi':\n",
            "  Metadata:\n",
            "    ISFT            : Lavf58.76.100\n",
            "  Stream #0:0: Video: mpeg4 (Simple Profile) (DIVX / 0x58564944), yuv420p, 3840x2160 [SAR 1:1 DAR 16:9], q=2-31, 19751 kb/s, 30 fps, 30 tbr, 30 tbn, 30 tbc\n",
            "Stream mapping:\n",
            "  Stream #0:0 -> #0:0 (copy)\n",
            "Press [q] to stop, [?] for help\n",
            "frame=  218 fps=0.0 q=-1.0 Lsize=   17451kB time=00:00:07.26 bitrate=19673.3kbits/s speed= 616x    \n",
            "video:17440kB audio:0kB subtitle:0kB other streams:0kB global headers:0kB muxing overhead: 0.062389%\n",
            "ffmpeg version 4.4.2-0ubuntu0.22.04.1 Copyright (c) 2000-2021 the FFmpeg developers\n",
            "  built with gcc 11 (Ubuntu 11.2.0-19ubuntu1)\n",
            "  configuration: --prefix=/usr --extra-version=0ubuntu0.22.04.1 --toolchain=hardened --libdir=/usr/lib/x86_64-linux-gnu --incdir=/usr/include/x86_64-linux-gnu --arch=amd64 --enable-gpl --disable-stripping --enable-gnutls --enable-ladspa --enable-libaom --enable-libass --enable-libbluray --enable-libbs2b --enable-libcaca --enable-libcdio --enable-libcodec2 --enable-libdav1d --enable-libflite --enable-libfontconfig --enable-libfreetype --enable-libfribidi --enable-libgme --enable-libgsm --enable-libjack --enable-libmp3lame --enable-libmysofa --enable-libopenjpeg --enable-libopenmpt --enable-libopus --enable-libpulse --enable-librabbitmq --enable-librubberband --enable-libshine --enable-libsnappy --enable-libsoxr --enable-libspeex --enable-libsrt --enable-libssh --enable-libtheora --enable-libtwolame --enable-libvidstab --enable-libvorbis --enable-libvpx --enable-libwebp --enable-libx265 --enable-libxml2 --enable-libxvid --enable-libzimg --enable-libzmq --enable-libzvbi --enable-lv2 --enable-omx --enable-openal --enable-opencl --enable-opengl --enable-sdl2 --enable-pocketsphinx --enable-librsvg --enable-libmfx --enable-libdc1394 --enable-libdrm --enable-libiec61883 --enable-chromaprint --enable-frei0r --enable-libx264 --enable-shared\n",
            "  libavutil      56. 70.100 / 56. 70.100\n",
            "  libavcodec     58.134.100 / 58.134.100\n",
            "  libavformat    58. 76.100 / 58. 76.100\n",
            "  libavdevice    58. 13.100 / 58. 13.100\n",
            "  libavfilter     7.110.100 /  7.110.100\n",
            "  libswscale      5.  9.100 /  5.  9.100\n",
            "  libswresample   3.  9.100 /  3.  9.100\n",
            "  libpostproc    55.  9.100 / 55.  9.100\n",
            "Input #0, avi, from '/home/richardliu/code/github.com/c4fun/Wav2Lip-GFPGAN/outputs/concated_output.avi':\n",
            "  Metadata:\n",
            "    software        : Lavf58.76.100\n",
            "  Duration: 00:00:07.27, start: 0.000000, bitrate: 19673 kb/s\n",
            "  Stream #0:0: Video: mpeg4 (Simple Profile) (DIVX / 0x58564944), yuv420p, 3840x2160 [SAR 1:1 DAR 16:9], 19751 kb/s, 30 fps, 30 tbr, 30 tbn, 30 tbc\n",
            "Input #1, mp3, from '/home/richardliu/code/github.com/c4fun/Wav2Lip-GFPGAN/inputs/kim_audio.mp3':\n",
            "  Metadata:\n",
            "    comment         : audio-extractor.net\n",
            "  Duration: 00:00:07.44, start: 0.025057, bitrate: 132 kb/s\n",
            "  Stream #1:0: Audio: mp3, 44100 Hz, stereo, fltp, 128 kb/s\n",
            "    Metadata:\n",
            "      encoder         : Lavc59.18\n",
            "Stream mapping:\n",
            "  Stream #0:0 -> #0:0 (copy)\n",
            "  Stream #1:0 -> #0:1 (mp3 (mp3float) -> mp3 (libmp3lame))\n",
            "Press [q] to stop, [?] for help\n",
            "Output #0, avi, to '/home/richardliu/code/github.com/c4fun/Wav2Lip-GFPGAN/outputs/final_with_audio.avi':\n",
            "  Metadata:\n",
            "    software        : Lavf58.76.100\n",
            "    ISFT            : Lavf58.76.100\n",
            "  Stream #0:0: Video: mpeg4 (Simple Profile) (DIVX / 0x58564944), yuv420p, 3840x2160 [SAR 1:1 DAR 16:9], q=2-31, 19751 kb/s, 30 fps, 30 tbr, 30 tbn, 30 tbc\n",
            "  Stream #0:1: Audio: mp3 (U[0][0][0] / 0x0055), 44100 Hz, stereo, fltp\n",
            "    Metadata:\n",
            "      encoder         : Lavc58.134.100 libmp3lame\n",
            "frame=  218 fps=0.0 q=-1.0 Lsize=   17576kB time=00:00:07.26 bitrate=19813.8kbits/s speed= 168x    \n",
            "video:17440kB audio:114kB subtitle:0kB other streams:0kB global headers:0kB muxing overhead: 0.123035%\n"
          ]
        }
      ],
      "source": [
        "concatTextFilePath = outputPath + \"/concat.txt\"\n",
        "concatTextFile=open(concatTextFilePath,\"w\")\n",
        "for ips in range(batch):\n",
        "  concatTextFile.write(\"file batch_\" + str(ips).zfill(4) + \".avi\\n\")\n",
        "concatTextFile.close()\n",
        "\n",
        "concatedVideoOutputPath = outputPath + \"/concated_output.avi\"\n",
        "!ffmpeg -y -f concat -i {concatTextFilePath} -c copy {concatedVideoOutputPath} \n",
        "\n",
        "finalProcessedOuputVideo = processedVideoOutputPath+'/final_with_audio.avi'\n",
        "!ffmpeg -y -i {concatedVideoOutputPath} -i {inputAudioPath} -map 0 -map 1:a -c:v copy -shortest {finalProcessedOuputVideo}\n",
        "\n"
      ]
    },
    {
      "cell_type": "code",
      "execution_count": null,
      "metadata": {},
      "outputs": [],
      "source": []
    }
  ],
  "metadata": {
    "accelerator": "GPU",
    "colab": {
      "collapsed_sections": [],
      "name": "Wav2Lip.ipynb",
      "provenance": []
    },
    "gpuClass": "standard",
    "kernelspec": {
      "display_name": "Python 3",
      "name": "python3"
    },
    "language_info": {
      "codemirror_mode": {
        "name": "ipython",
        "version": 3
      },
      "file_extension": ".py",
      "mimetype": "text/x-python",
      "name": "python",
      "nbconvert_exporter": "python",
      "pygments_lexer": "ipython3",
      "version": "3.8.18"
    }
  },
  "nbformat": 4,
  "nbformat_minor": 0
}
